{
 "cells": [
  {
   "cell_type": "code",
   "execution_count": 1,
   "id": "0d8b7397-3a56-4d68-a05c-b59bfc8a5506",
   "metadata": {},
   "outputs": [
    {
     "name": "stdout",
     "output_type": "stream",
     "text": [
      "before swapping x: 12\n",
      "before swapping y: 15\n",
      "after swapping x: 15\n",
      "after swapping y: 12\n"
     ]
    }
   ],
   "source": [
    "# Q1. Declare two variables, `x` and `y`, and assign them integer values. Swap the\n",
    "# values of these variables without using any temporary variable.\n",
    "\n",
    "#taking two varaible x & y and assigning integer value to x  and y\n",
    "\n",
    "x=12\n",
    "y=15\n",
    "print(\"before swapping x:\",x)\n",
    "print(\"before swapping y:\",y)\n",
    "\n",
    "#now swapping the values of varaibles\n",
    "\n",
    "x=x+y #now first we are adding both the varaible and storing addition in x\n",
    "y=x-y #in y we are storing the substraction of both the varaible\n",
    "x=x-y #now again substracting both varaible and storing it in x\n",
    "\n",
    "#now the values of both the varaible is swapped \n",
    "\n",
    "print(\"after swapping x:\",x)\n",
    "print(\"after swapping y:\",y)\n"
   ]
  },
  {
   "cell_type": "code",
   "execution_count": 3,
   "id": "673010fc-eae6-4cac-b3c8-04fe0bd2d392",
   "metadata": {},
   "outputs": [
    {
     "name": "stdin",
     "output_type": "stream",
     "text": [
      "enter length: 12\n",
      "enter breath: 14\n"
     ]
    },
    {
     "name": "stdout",
     "output_type": "stream",
     "text": [
      "The area of given rectangle is :  168\n"
     ]
    }
   ],
   "source": [
    "# Q2. Create a program that calculates the area of a rectangle. Take the length and\n",
    "# width as inputs from the user and store them in variables. Calculate and\n",
    "# display the area.\n",
    "\n",
    "#to find the area of rectangle we make two varaible length and breath\n",
    "length=int(input(\"enter length:\"))\n",
    "breath=int(input(\"enter breath:\"))\n",
    "\n",
    "#as we all know the Area of rectangle is length multiply by breath\n",
    "area=length*breath #making varaible name as area  to store the area of rectangle\n",
    "\n",
    "print(\"The area of given rectangle is : \",area) #simply print the area of rectangle\n",
    "\n"
   ]
  },
  {
   "cell_type": "code",
   "execution_count": 4,
   "id": "1b12d1a5-b32d-4236-b058-5cd5f768f1b0",
   "metadata": {},
   "outputs": [
    {
     "name": "stdin",
     "output_type": "stream",
     "text": [
      "enter degree celsius: 12\n"
     ]
    },
    {
     "name": "stdout",
     "output_type": "stream",
     "text": [
      "temperature in fehrenheit 53.6\n"
     ]
    }
   ],
   "source": [
    "# Q3. Write a Python program that converts temperatures from Celsius to\n",
    "# Fahrenheit. Take the temperature in Celsius as input, store it in a variable,\n",
    "# convert it to Fahrenheit, and display the result.\n",
    "\n",
    "celsius=int(input(\"enter degree celsius:\")) #get the temp in celsius as input by creating varaible name as celsius\n",
    "\n",
    "#for converting celsius to fahrenheit we use a simple conversation formula\n",
    "#first create a varaible name as fehrenheit and assigning the formula of conversation to it\n",
    "\n",
    "fehrenheit=(celsius*9/5)+32 #to convert in feh simply multiply celsius value with 9/5 and then add it with  32\n",
    "\n",
    "print(\"temperature in fehrenheit\",fehrenheit) #celsius to fahrenheit\n"
   ]
  },
  {
   "cell_type": "markdown",
   "id": "00ffa872-3f45-4776-8e38-c3efab1d5b04",
   "metadata": {},
   "source": [
    " TOPIC: String Based Questions"
   ]
  },
  {
   "cell_type": "code",
   "execution_count": 5,
   "id": "87c093ad-4e49-41a5-83b6-cbbd651f3d1b",
   "metadata": {},
   "outputs": [
    {
     "name": "stdin",
     "output_type": "stream",
     "text": [
      "enter the string: pw skill teachers teaching style is so unique\n"
     ]
    },
    {
     "name": "stdout",
     "output_type": "stream",
     "text": [
      "the length of the string is:  45\n",
      "45\n"
     ]
    }
   ],
   "source": [
    "# Q1. Write a Python program that takes a string as input and prints the length of\n",
    "# the string.\n",
    "\n",
    "#creating varaible name as string that stores the input string\n",
    "\n",
    "string=input(\"enter the string:\")#taking string as an input\n",
    "\n",
    "#for printing the length of the string we create a varaible name as str_length and we will intialize it with zero\n",
    "str_length=0\n",
    "#now use the loop to iterate the alphabet of string one by one \n",
    "for char in string:\n",
    "    #now increment str_length by one with every iteration \n",
    "    str_length+=1\n",
    "#print str_length to get the string length\n",
    "print(\"the length of the string is: \",str_length)#we get the length of the string \n",
    "#just for checking we use len function\n",
    "s=len(string) #varaible s which store the length of string by using len function\n",
    "print(s) "
   ]
  },
  {
   "cell_type": "code",
   "execution_count": 6,
   "id": "5830f972-befb-44b5-9b13-84b9adaf4697",
   "metadata": {},
   "outputs": [
    {
     "name": "stdin",
     "output_type": "stream",
     "text": [
      "enter the sentence:  life become aweasome after joining pwskills\n"
     ]
    },
    {
     "name": "stdout",
     "output_type": "stream",
     "text": [
      "number of vowels in  : life become aweasome after joining pwskills : 16\n"
     ]
    }
   ],
   "source": [
    "# Q2. Create a program that takes a sentence from the user and counts the number\n",
    "# of vowels (a, e, i, o, u) in the string.\n",
    "\n",
    "#creating varaible name as sentence to take sentence as an input from user\n",
    "sentence=input(\"enter the sentence: \")\n",
    "\n",
    "#for targetting the vowels in the sentence we create the varaible name as vowel in which we store the vowels\n",
    "vowel=\"aeiou\"\n",
    "\n",
    "#creating varaible name as count to count the number of varaible present in the sentence \n",
    "count=0 #intializing count with zero\n",
    "\n",
    "for char in sentence.lower(): #iterating all the elements in the sentence one by one by using char in for loop \n",
    "    if char in vowel: #checking vowel in char of sentence using if statement\n",
    "        count+=1  #every time the vowel encountered we increment count by one\n",
    "print(\"number of vowels in  :\",sentence,\":\",count) #get the number of vowel present in the string after printing count\n"
   ]
  },
  {
   "cell_type": "code",
   "execution_count": 7,
   "id": "2e360dcc-481d-4061-b998-da3d298f7d1c",
   "metadata": {},
   "outputs": [
    {
     "name": "stdout",
     "output_type": "stream",
     "text": [
      "sllikswP olleH\n"
     ]
    }
   ],
   "source": [
    "# Q3. Given a string, reverse the order of characters using string slicing and print\n",
    "# the reversed string.\n",
    "\n",
    "s=\"Hello Pwskills\" #storing given string in varaible \n",
    "\n",
    "n=s[::-1] #creating another varaible name as n in which we store string s in reverse order by index slicing\n",
    "\n",
    "print(n) #just print n to get the reverse of string s\n"
   ]
  },
  {
   "cell_type": "code",
   "execution_count": 8,
   "id": "ce1eb18c-6c52-4e95-b39a-b5fc49173bdc",
   "metadata": {},
   "outputs": [
    {
     "name": "stdin",
     "output_type": "stream",
     "text": [
      "enter the string: madam\n"
     ]
    },
    {
     "name": "stdout",
     "output_type": "stream",
     "text": [
      "entered string is palindrome\n"
     ]
    }
   ],
   "source": [
    "\n",
    "\n",
    "# Q4. Write a program that takes a string as input and checks if it is a palindrome\n",
    "# (reads the same forwards and backwards).\n",
    "\n",
    "#creating varaible strg which take input string from the user\n",
    "strg=input(\"enter the string:\")\n",
    "#for checking palindrome create another varaible strg2 and store the value of strg in strg 2 in reverse indexing order\n",
    "strg2=strg[::-1]#using slicinf to get the reverse of string\n",
    "\n",
    "if strg==strg2: #checking=if strg is equal to strg2 \n",
    "    print(\"entered string is palindrome\") #if both varaible are equal then print \n",
    "else:\n",
    "    print(\"entered string is not palindrome\") #if varaible are not equal then print"
   ]
  },
  {
   "cell_type": "code",
   "execution_count": null,
   "id": "4df50802-38dd-4c62-a4ec-e1f2a15081e7",
   "metadata": {},
   "outputs": [],
   "source": []
  }
 ],
 "metadata": {
  "kernelspec": {
   "display_name": "Python 3 (ipykernel)",
   "language": "python",
   "name": "python3"
  },
  "language_info": {
   "codemirror_mode": {
    "name": "ipython",
    "version": 3
   },
   "file_extension": ".py",
   "mimetype": "text/x-python",
   "name": "python",
   "nbconvert_exporter": "python",
   "pygments_lexer": "ipython3",
   "version": "3.10.8"
  }
 },
 "nbformat": 4,
 "nbformat_minor": 5
}
